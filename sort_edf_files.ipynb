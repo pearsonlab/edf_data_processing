{
 "cells": [
  {
   "cell_type": "code",
   "execution_count": null,
   "metadata": {
    "collapsed": true
   },
   "outputs": [],
   "source": [
    "import shutil\n",
    "import glob\n",
    "\n",
    "folder_loc = '' # Enter the folder location which contains edf files\n",
    "folder = glob.glob(folder_loc+'/*edf')"
   ]
  },
  {
   "cell_type": "code",
   "execution_count": null,
   "metadata": {
    "collapsed": false
   },
   "outputs": [],
   "source": [
    "for file in folder:\n",
    "    header_list = []\n",
    "    with open(file, 'r+b') as f:\n",
    "        header = {}\n",
    "        f.read(168)\n",
    "        header['date'] = tuple(int(i) for i in f.read(8).decode(\"utf-8\").strip().split('.'))\n",
    "        header['time'] = tuple(int(i) for i in f.read(8).decode(\"utf-8\").strip().split('.'))\n",
    "        header_bytes = f.read(8).decode(\"utf-8\").strip().split()\n",
    "        f.read(44)\n",
    "        header['numRecs'] = int(f.read(8).decode(\"utf-8\").strip())\n",
    "        recDurs = float(f.read(8).decode(\"utf-8\").strip())\n",
    "        header['file duration'] = header['numRecs']*recDurs/3600\n",
    "        header['numSigs'] = int(f.read(4).decode(\"utf-8\").strip())\n",
    "        header['sigLabels'] = []\n",
    "        for i in range(header['numSigs']):\n",
    "            header['sigLabels'].append(f.read(16).decode(\"utf-8\").strip())\n",
    "        header_list.append(header)\n",
    "        print(file)\n",
    "        print(\"date (DD, MM, YYYY): \", header['date'])\n",
    "        print(\"time (hr, min, sec): \", header['time'])\n",
    "        print(\"file duration (hrs): \", header['file duration'])\n",
    "        print(\"\")\n",
    "    "
   ]
  },
  {
   "cell_type": "code",
   "execution_count": null,
   "metadata": {
    "collapsed": true
   },
   "outputs": [],
   "source": []
  }
 ],
 "metadata": {
  "anaconda-cloud": {},
  "kernelspec": {
   "display_name": "Python [Root]",
   "language": "python",
   "name": "Python [Root]"
  },
  "language_info": {
   "codemirror_mode": {
    "name": "ipython",
    "version": 3
   },
   "file_extension": ".py",
   "mimetype": "text/x-python",
   "name": "python",
   "nbconvert_exporter": "python",
   "pygments_lexer": "ipython3",
   "version": "3.5.2"
  }
 },
 "nbformat": 4,
 "nbformat_minor": 0
}
